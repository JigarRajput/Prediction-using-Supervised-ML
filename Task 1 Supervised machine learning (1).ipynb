{
 "cells": [
  {
   "cell_type": "markdown",
   "id": "84f5364f",
   "metadata": {},
   "source": [
    "# Task 1 The Sparks Foundation \n",
    "\n",
    "Student's Percentage prediction using supervised machine learning"
   ]
  },
  {
   "cell_type": "markdown",
   "id": "63e4fabf",
   "metadata": {},
   "source": [
    "### Importing required modules "
   ]
  },
  {
   "cell_type": "code",
   "execution_count": 3,
   "id": "3f240720",
   "metadata": {},
   "outputs": [],
   "source": [
    "import pandas as pd  \n",
    "import matplotlib.pyplot as plt\n",
    "from sklearn import linear_model"
   ]
  },
  {
   "cell_type": "markdown",
   "id": "edc3cd26",
   "metadata": {},
   "source": [
    "#### Loading data in Pandas DataFrame"
   ]
  },
  {
   "cell_type": "code",
   "execution_count": 9,
   "id": "a15a0336",
   "metadata": {},
   "outputs": [],
   "source": [
    "data_frame = pd.read_csv(\"https://raw.githubusercontent.com/AdiPersonalWorks/Random/master/student_scores%20-%20student_scores.csv\")"
   ]
  },
  {
   "cell_type": "markdown",
   "id": "f5fa0796",
   "metadata": {},
   "source": [
    "### Getting Data Insights (Rows and columns)"
   ]
  },
  {
   "cell_type": "code",
   "execution_count": 10,
   "id": "80333f7c",
   "metadata": {},
   "outputs": [
    {
     "data": {
      "text/html": [
       "<div>\n",
       "<style scoped>\n",
       "    .dataframe tbody tr th:only-of-type {\n",
       "        vertical-align: middle;\n",
       "    }\n",
       "\n",
       "    .dataframe tbody tr th {\n",
       "        vertical-align: top;\n",
       "    }\n",
       "\n",
       "    .dataframe thead th {\n",
       "        text-align: right;\n",
       "    }\n",
       "</style>\n",
       "<table border=\"1\" class=\"dataframe\">\n",
       "  <thead>\n",
       "    <tr style=\"text-align: right;\">\n",
       "      <th></th>\n",
       "      <th>Hours</th>\n",
       "      <th>Scores</th>\n",
       "    </tr>\n",
       "  </thead>\n",
       "  <tbody>\n",
       "    <tr>\n",
       "      <th>0</th>\n",
       "      <td>2.5</td>\n",
       "      <td>21</td>\n",
       "    </tr>\n",
       "    <tr>\n",
       "      <th>1</th>\n",
       "      <td>5.1</td>\n",
       "      <td>47</td>\n",
       "    </tr>\n",
       "    <tr>\n",
       "      <th>2</th>\n",
       "      <td>3.2</td>\n",
       "      <td>27</td>\n",
       "    </tr>\n",
       "    <tr>\n",
       "      <th>3</th>\n",
       "      <td>8.5</td>\n",
       "      <td>75</td>\n",
       "    </tr>\n",
       "    <tr>\n",
       "      <th>4</th>\n",
       "      <td>3.5</td>\n",
       "      <td>30</td>\n",
       "    </tr>\n",
       "  </tbody>\n",
       "</table>\n",
       "</div>"
      ],
      "text/plain": [
       "   Hours  Scores\n",
       "0    2.5      21\n",
       "1    5.1      47\n",
       "2    3.2      27\n",
       "3    8.5      75\n",
       "4    3.5      30"
      ]
     },
     "execution_count": 10,
     "metadata": {},
     "output_type": "execute_result"
    }
   ],
   "source": [
    "data_frame.head()"
   ]
  },
  {
   "cell_type": "markdown",
   "id": "2ee42f9a",
   "metadata": {},
   "source": [
    "### Plotting the data \n",
    "Here we are plotting the data to see if we can find any relationship"
   ]
  },
  {
   "cell_type": "code",
   "execution_count": 11,
   "id": "fdc8adf5",
   "metadata": {},
   "outputs": [
    {
     "data": {
      "image/png": "[encoded data removed]",
      "text/plain": [
       "<Figure size 432x288 with 1 Axes>"
      ]
     },
     "metadata": {
      "needs_background": "light"
     },
     "output_type": "display_data"
    }
   ],
   "source": [
    "data_frame.plot(x='Hours',y='Scores',style='o',mec='k',mfc='g')\n",
    "plt.title(\"Hours Vs Percentage\")\n",
    "plt.xlabel(\"Hours Studied\")\n",
    "plt.ylabel(\"Percentage Scored\")\n",
    "plt.show()\n"
   ]
  },
  {
   "cell_type": "markdown",
   "id": "c9863b23",
   "metadata": {},
   "source": [
    "Here we can see that there is positive Linear relationship between 'Hours Studied' and 'Percentage Scored'"
   ]
  },
  {
   "cell_type": "markdown",
   "id": "8059b6bf",
   "metadata": {},
   "source": [
    "### Now will divide data into inputs and Labels"
   ]
  },
  {
   "cell_type": "code",
   "execution_count": 12,
   "id": "f9f23279",
   "metadata": {},
   "outputs": [],
   "source": [
    "X = data_frame.iloc[:,:-1]\n",
    "Y = data_frame.iloc[:,1]"
   ]
  },
  {
   "cell_type": "markdown",
   "id": "9088340e",
   "metadata": {},
   "source": [
    "### Let us divide data into training and test data sets"
   ]
  },
  {
   "cell_type": "code",
   "execution_count": 13,
   "id": "c8396f77",
   "metadata": {},
   "outputs": [],
   "source": [
    "from sklearn.model_selection import train_test_split\n",
    "X_train, X_test, Y_train, Y_test = train_test_split(X,Y,train_size=0.8,test_size=0.2,random_state=0)"
   ]
  },
  {
   "cell_type": "markdown",
   "id": "474e7479",
   "metadata": {},
   "source": [
    "### Training a model with Linear Regression"
   ]
  },
  {
   "cell_type": "code",
   "execution_count": 14,
   "id": "77763059",
   "metadata": {},
   "outputs": [],
   "source": [
    "model = linear_model.LinearRegression()"
   ]
  },
  {
   "cell_type": "code",
   "execution_count": 17,
   "id": "ff9a1912",
   "metadata": {},
   "outputs": [
    {
     "name": "stdout",
     "output_type": "stream",
     "text": [
      "Training Successful\n"
     ]
    }
   ],
   "source": [
    "model.fit(X_train,Y_train)\n",
    "print(\"Training Successful\")"
   ]
  },
  {
   "cell_type": "markdown",
   "id": "969bec26",
   "metadata": {},
   "source": [
    "### Plotting the regression Line"
   ]
  },
  {
   "cell_type": "code",
   "execution_count": 21,
   "id": "226efe2d",
   "metadata": {},
   "outputs": [
    {
     "data": {
      "text/plain": [
       "<matplotlib.collections.PathCollection at 0x2060cd1b1c0>"
      ]
     },
     "execution_count": 21,
     "metadata": {},
     "output_type": "execute_result"
    },
    {
     "data": {
      "image/png": "[encoded data removed]",
      "text/plain": [
       "<Figure size 432x288 with 1 Axes>"
      ]
     },
     "metadata": {
      "needs_background": "light"
     },
     "output_type": "display_data"
    }
   ],
   "source": [
    "line = model.coef_*X+model.intercept_\n",
    "plt.plot(X,line,color='green')\n",
    "plt.scatter(X,Y)"
   ]
  },
  {
   "cell_type": "markdown",
   "id": "ea138039",
   "metadata": {},
   "source": [
    "### Predicting outputs "
   ]
  },
  {
   "cell_type": "code",
   "execution_count": 24,
   "id": "09b11219",
   "metadata": {},
   "outputs": [],
   "source": [
    "test_data = [[9.25]]\n",
    "Y_prediction = model.predict(X_test)"
   ]
  },
  {
   "cell_type": "markdown",
   "id": "4c7a13ce",
   "metadata": {},
   "source": [
    "#### Comparing Actual VS Predicted "
   ]
  },
  {
   "cell_type": "code",
   "execution_count": 26,
   "id": "d3a43a3f",
   "metadata": {},
   "outputs": [
    {
     "name": "stdout",
     "output_type": "stream",
     "text": [
      "    Actual  Predicted\n",
      "5       20  16.884145\n",
      "2       27  33.732261\n",
      "19      69  75.357018\n",
      "16      30  26.794801\n",
      "11      62  60.491033\n"
     ]
    }
   ],
   "source": [
    "new_df = pd.DataFrame({'Actual': Y_test, 'Predicted':Y_prediction})\n",
    "print(new_df)"
   ]
  },
  {
   "cell_type": "markdown",
   "id": "a2280ea3",
   "metadata": {},
   "source": [
    "### Let us calculate model score"
   ]
  },
  {
   "cell_type": "code",
   "execution_count": 27,
   "id": "98b129af",
   "metadata": {},
   "outputs": [],
   "source": [
    "Score = model.score(X_test,Y_test)"
   ]
  },
  {
   "cell_type": "code",
   "execution_count": 29,
   "id": "d2708373",
   "metadata": {},
   "outputs": [
    {
     "name": "stdout",
     "output_type": "stream",
     "text": [
      "The Accuracy of model is:94.54906892105356 percent\n"
     ]
    }
   ],
   "source": [
    "print(\"The Accuracy of model is:{} percent\".format(Score*100))"
   ]
  },
  {
   "cell_type": "markdown",
   "id": "150d2d0c",
   "metadata": {},
   "source": [
    "## Predicting for 9.25 Hours"
   ]
  },
  {
   "cell_type": "code",
   "execution_count": 35,
   "id": "84794cc8",
   "metadata": {},
   "outputs": [
    {
     "name": "stdout",
     "output_type": "stream",
     "text": [
      "The predicted Percentage scored for 9.25 hours is: 93.69173248737538 percentage\n"
     ]
    }
   ],
   "source": [
    "Obtained = model.predict([[9.25]])\n",
    "print(\"The predicted Percentage scored for 9.25 hours is: {} percentage\".format(Obtained[0]))"
   ]
  }
 ],
 "metadata": {
  "kernelspec": {
   "display_name": "Python 3",
   "language": "python",
   "name": "python3"
  },
  "language_info": {
   "codemirror_mode": {
    "name": "ipython",
    "version": 3
   },
   "file_extension": ".py",
   "mimetype": "text/x-python",
   "name": "python",
   "nbconvert_exporter": "python",
   "pygments_lexer": "ipython3",
   "version": "3.8.8"
  }
 },
 "nbformat": 4,
 "nbformat_minor": 5
}
